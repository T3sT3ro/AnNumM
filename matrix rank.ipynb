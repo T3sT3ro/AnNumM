{
 "cells": [
  {
   "cell_type": "code",
   "execution_count": 2,
   "metadata": {},
   "outputs": [],
   "source": [
    "using Printf\n",
    "using Plots\n",
    "using LinearAlgebra # do operacji macierzowych i testowania \n",
    "\n",
    "# NOTES:\n",
    "# identity: Matrix(I, rows, cols)\n",
    "# random: rand(rows, cols)\n",
    "# transpose: matrix'\n",
    "# one row tmp[1:1, :]\n",
    "# cats: [A B]=hcat [A; B]=vcat\n",
    "# vector/matrix length/norm = norm([1 2 3]) !!! norma Frobeniusa\n",
    "# subarray M[2:3, 4:5]\n",
    "# eltype(M) type of Matrix elements\n",
    "# NamedTuple{(:a, :b), Tuple{Matrix, Matrix}}((Matrix{Float64}(I, 5, 5), rand(4, 4))).b"
   ]
  },
  {
   "cell_type": "markdown",
   "metadata": {},
   "source": [
    "Znajdujemy rozkład macieży a na macieże `Q`(ortogonalną) i `R`(górnotrójkątną). Dzieki temu `rank(A)=rank(QR)=rank(R)`, a `rank(R)` jest prostym policzeniem niezerowych wierszy. Korzystam z metody Hausholdera, ze względu na lepszą numeryczną poprawność niż metoda Gramma-Schmidta."
   ]
  },
  {
   "cell_type": "code",
   "execution_count": 29,
   "metadata": {},
   "outputs": [
    {
     "data": {
      "text/plain": [
       "rankQRHausholder (generic function with 1 method)"
      ]
     },
     "execution_count": 29,
     "metadata": {},
     "output_type": "execute_result"
    }
   ],
   "source": [
    "# https://pl.wikipedia.org/wiki/Rozk%C5%82ad_QR\n",
    "# liczy podmacierz Hausholdera dla wektora `aₙₓ₁` jako Hₙₓₙ=I-2*(v*vᵀ)/(vᵀ*v) gdzie v = a - |a| * [1₁ 0₂ ... 0ₙ]ᵀ, v!=0\n",
    "# macierz zwracana spełnia warunek H*a=|a|*e, więc dla a=d*e H=I, gdzie d ∈ R, e = [1₁ 0₂ ... 0ₙ]ᵀ\n",
    "function _HausholderMatrix(a) # O(n²)\n",
    "    local T, n = eltype(a), length(a)\n",
    "    if (all(x->x==0, a[2:n])) return Matrix{T}(I, n, n) end # zwraca identyczność gdy a=d*e, bo inaczej v=0\n",
    "    local v = a+sign(a[1])*norm(a)*[1 zeros(T, n-1)']' # a+sign(a[1])*|a|... zamiast a-|a|... bo utrata cyfr znaczących\n",
    "    v = v/v[1] # normalizacja ze względu na pierwszy element\n",
    "    return Matrix{T}(I, n, n) - (2/(v'*v)[1]) * (v*v') # O(n²)\n",
    "end\n",
    "\n",
    "# liczy rząd M używając rozkładu QR (Mₙₓₘ=QₙₓₘRₘₓₘ gdzie Q ortogonana i R górnotrójkątna).\n",
    "# funkcja robi pivoting wybierając wektor o największej normie\n",
    "function rankQRHausholder(M)\n",
    "    # R=...H₂H₁M   Q=H₁H₂... (ale Q jest zbędne)\n",
    "    local T, n, m = eltype(M), length(M[:, 1]), length(M[1, :]) # rows and columns\n",
    "    if (n < m) n, m, M = m, n, M' end # transponuj. Rząd kolumnowy i wierszowy są takie same a rk(M)=rk(Mᵀ)=rk(Rᵀ)\n",
    "    local R = convert(Array{T}, Matrix(M))\n",
    "    for i in 1:min(m, n-1)\n",
    "#         display(i);\n",
    "#         display(R)\n",
    "#         display(R[i:n, i:i]')\n",
    "        R[:, i:m] = sortslices(R[:, i:m], dims=2, lt=(x,y)->norm(x[i:n])<norm(y[i:n]), rev=true) # pivot\n",
    "        R = [Matrix{T}(I, i-1, i-1) zeros(T, i-1, n-i+1); zeros(T, n-i+1, i-1) _HausholderMatrix(R[i:n, i:i])]*R\n",
    "        R[i+1:n, i:i] = zeros(T, n-i)' # naprawmy zera które powinny tu występować aby nie mnożyć błędów numerycznych\n",
    "    end\n",
    "    return R # TODO: liczenie rzędu macierzy górnotrójkątnej\n",
    "end"
   ]
  },
  {
   "cell_type": "code",
   "execution_count": 46,
   "metadata": {},
   "outputs": [
    {
     "data": {
      "text/plain": [
       "6×5 Array{Float64,2}:\n",
       " 18.4932  -0.162221  14.1673    1.40592  18.4932     \n",
       "  0.0     13.0757    -1.12436  -8.54807   1.7612e-15 \n",
       "  0.0      0.0       -8.06364   7.38242  -1.41603e-16\n",
       "  0.0      0.0        0.0       3.23322   6.95251e-16\n",
       "  0.0      0.0        0.0       0.0       1.5444e-15 \n",
       "  0.0      0.0        0.0       0.0       0.0        "
      ]
     },
     "metadata": {},
     "output_type": "display_data"
    },
    {
     "data": {
      "text/plain": [
       "5×5 Array{Float64,2}:\n",
       " 18.4932  18.4932       14.1673   -0.162221   1.40592\n",
       "  0.0      2.18689e-15  -1.40568  -9.49988    6.92462\n",
       "  0.0      0.0           8.01939  -3.49846   -5.01089\n",
       "  0.0      0.0           0.0      -8.27568    7.67542\n",
       "  0.0      0.0           0.0       0.0       -2.46004"
      ]
     },
     "metadata": {},
     "output_type": "display_data"
    },
    {
     "data": {
      "text/plain": [
       "7.105427357601002e-15"
      ]
     },
     "execution_count": 46,
     "metadata": {},
     "output_type": "execute_result"
    }
   ],
   "source": [
    "A = [12 -51 4; 6 167 -68; -4 24 -41]\n",
    "tmp = rand(-10:10, 6, 5)\n",
    "myR, qrR = rankQRHausholder(tmp3), qr(tmp3).R\n",
    "display(myR)\n",
    "display(qrR)\n",
    "norm(myR)-norm(qrR)"
   ]
  },
  {
   "cell_type": "markdown",
   "metadata": {},
   "source": [
    "Problem jest znalezienie rzędu R. Do tego jest algorytm \"Rank Revealing QR decomposition\" aka RRQR, gdzie znajdujemy dodatkową macierz P permutacji wejsciowej macierzy A. Dzięki temu wyjściowa macierz R przyjmie postać macierzy górnotrójkątnej z zerowymi wierszami, które będzie można policzyć. Permutacje wykonywane są po kolumnach i posortowane po największej normie wektora."
   ]
  },
  {
   "cell_type": "code",
   "execution_count": 1,
   "metadata": {},
   "outputs": [
    {
     "data": {
      "text/plain": [
       "6×5 Array{Int64,2}:\n",
       " -10   -6  -6  -9   4\n",
       "  -2   -5  10  -4   8\n",
       "   5    4   9   0  -1\n",
       "  -8  -10   8   1   1\n",
       "  -7   -9   7   8  -3\n",
       "  10    3   7  -3   7"
      ]
     },
     "metadata": {},
     "output_type": "display_data"
    }
   ],
   "source": [
    "tmp = rand(-10:10, 6, 5)\n",
    "display(tmp)\n"
   ]
  },
  {
   "cell_type": "markdown",
   "metadata": {},
   "source": [
    "Inny sposób: rozkład SVD"
   ]
  },
  {
   "cell_type": "code",
   "execution_count": 27,
   "metadata": {},
   "outputs": [
    {
     "data": {
      "text/plain": [
       "6×5 Array{Int64,2}:\n",
       " -6  -10   -6  -9   4\n",
       " 10   -2   -5  -4   8\n",
       "  9    5    4   0  -1\n",
       "  8   -7  -10   1   1\n",
       "  7   -8   -9   8  -3\n",
       "  7   10    3  -3   7"
      ]
     },
     "metadata": {},
     "output_type": "display_data"
    },
    {
     "data": {
      "text/plain": [
       "15.427248620541512"
      ]
     },
     "metadata": {},
     "output_type": "display_data"
    },
    {
     "data": {
      "text/plain": [
       "14.352700094407323"
      ]
     },
     "metadata": {},
     "output_type": "display_data"
    },
    {
     "data": {
      "text/plain": [
       "15.588457268119896"
      ]
     },
     "metadata": {},
     "output_type": "display_data"
    },
    {
     "data": {
      "text/plain": [
       "8.602325267042627"
      ]
     },
     "metadata": {},
     "output_type": "display_data"
    },
    {
     "data": {
      "text/plain": [
       "7.745966692414834"
      ]
     },
     "metadata": {},
     "output_type": "display_data"
    },
    {
     "data": {
      "text/plain": [
       "6×5 Array{Int64,2}:\n",
       " -10   -6  -6  -9   4\n",
       "  -2   -5  10  -4   8\n",
       "   5    4   9   0  -1\n",
       "  -7  -10   8   1   1\n",
       "  -8   -9   7   8  -3\n",
       "  10    3   7  -3   7"
      ]
     },
     "execution_count": 27,
     "metadata": {},
     "output_type": "execute_result"
    }
   ],
   "source": [
    "tmp2 = sortslices(tmp, dims=2, lt=(x,y)->max(norm(x[3:6]))<max(norm(y[3:6])), rev=true)\n",
    "display(tmp2)\n",
    "for i in 1:5\n",
    "    display(norm(tmp[3:6, i]))\n",
    "end\n",
    "tmp"
   ]
  },
  {
   "cell_type": "code",
   "execution_count": 31,
   "metadata": {},
   "outputs": [
    {
     "data": {
      "text/plain": [
       "6×5 Array{Int64,2}:\n",
       " -6  -10   -6  -9   4\n",
       " 10   -2   -5  -4   8\n",
       "  9    5    4   0  -1\n",
       "  8   -7  -10   1   1\n",
       "  7   -8   -9   8  -3\n",
       "  7   10    3  -3   7"
      ]
     },
     "execution_count": 31,
     "metadata": {},
     "output_type": "execute_result"
    }
   ],
   "source": [
    "tmp3 = tmp2"
   ]
  },
  {
   "cell_type": "code",
   "execution_count": 45,
   "metadata": {},
   "outputs": [
    {
     "data": {
      "text/plain": [
       "6×5 Array{Int64,2}:\n",
       " -10  -10   -6  -9   4\n",
       "  -2   -2   -5  -4   8\n",
       "   5    5    4   0  -1\n",
       "  -7   -7  -10   1   1\n",
       "  -8   -8   -9   8  -3\n",
       "  10   10    3  -3   7"
      ]
     },
     "execution_count": 45,
     "metadata": {},
     "output_type": "execute_result"
    }
   ],
   "source": [
    "tmp3"
   ]
  },
  {
   "cell_type": "code",
   "execution_count": null,
   "metadata": {},
   "outputs": [],
   "source": []
  }
 ],
 "metadata": {
  "kernelspec": {
   "display_name": "Julia 1.0.1",
   "language": "julia",
   "name": "julia-1.0"
  },
  "language_info": {
   "file_extension": ".jl",
   "mimetype": "application/julia",
   "name": "julia",
   "version": "1.0.1"
  }
 },
 "nbformat": 4,
 "nbformat_minor": 2
}
