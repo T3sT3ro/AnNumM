{
 "cells": [
  {
   "cell_type": "code",
   "execution_count": 330,
   "metadata": {},
   "outputs": [],
   "source": [
    "using Printf\n",
    "using Plots\n",
    "using LinearAlgebra # do operacji macierzowych i testowania\n",
    "using RandomNumbers.MersenneTwisters\n",
    "using JLD\n",
    "\n",
    "# NOTES:\n",
    "# identity: Matrix(I, rows, cols)\n",
    "# random: rand(rows, cols)\n",
    "# transpose: matrix'\n",
    "# one row tmp[1:1, :]\n",
    "# cats: [A B]=hcat [A; B]=vcat\n",
    "# vector/matrix length/norm = norm([1 2 3]) !!! norma Frobeniusa\n",
    "# subarray M[2:3, 4:5]\n",
    "# eltype(M) type of Matrix elements\n",
    "# NamedTuple{(:a, :b), Tuple{Matrix, Matrix}}((Matrix{Float64}(I, 5, 5), rand(4, 4))).b"
   ]
  },
  {
   "cell_type": "markdown",
   "metadata": {},
   "source": [
    "Znajdujemy rozkład macieży a na macieże `Q`(ortogonalną) i `R`(górnotrójkątną). Dzieki temu `rank(A)=rank(QR)=rank(R)`, a `rank(R)` jest prostym policzeniem niezerowych wierszy. Korzystam z metody Householdera, ze względu na lepszą numeryczną poprawność niż metoda Gramma-Schmidta."
   ]
  },
  {
   "cell_type": "code",
   "execution_count": 260,
   "metadata": {},
   "outputs": [
    {
     "ename": "LoadError",
     "evalue": "syntax: incomplete: premature end of input",
     "output_type": "error",
     "traceback": [
      "syntax: incomplete: premature end of input",
      ""
     ]
    }
   ],
   "source": [
    "function getPrecisionU(T=Float64) return 1/2.0*2.0^-precision(T) end\n",
    "# https://pl.wikipedia.org/wiki/Rozk%C5%82ad_QR\n",
    "# oraz https://rosettacode.org/wiki/QR_decomposition\n",
    "# liczy podmacierz Householdera dla wektora `aₙₓ₁` jako Hₙₓₙ=I-2*(v*vᵀ)/(vᵀ*v) gdzie v = a - |a| * [1₁ 0₂ ... 0ₙ]ᵀ, v!=0\n",
    "# macierz zwracana spełnia warunek H*a=|a|*e, więc dla a=d*e H=I, gdzie d ∈ R, e = [1₁ 0₂ ... 0ₙ]ᵀ\n",
    "function _HouseholderMatrix(a) # O(n²)\n",
    "    local T, n = eltype(a), length(a)\n",
    "    if (all(x->x==0, a[2:n])) return Matrix{T}(I, n, n) end # zwraca identyczność gdy a=d*e, bo inaczej v=0\n",
    "    local v = a+(a[1]>=0 ? 1 : -1)*norm(a)*[1 zeros(T, n-1)']' # a±|a|... zamiast a-|a|... zapobiega utracie cyfr znaczących\n",
    "    #if(v[1] != 0) v = v/v[1] end # normalizacja ze względu na pierwszy element. Dla a⟂e(v[1]=0) nie normalizujemy.\n",
    "    return Matrix{T}(I, n, n) - (2/(v'*v)[1]) * (v*v') # w mianowniku iloczyn skalarny <v,v> != 0. O(n²)\n",
    "    end \n",
    "\n",
    "# liczy macierz R rozkładu QR (Mₙₓₘ=QₙₓₘRₘₓₘ gdzie Q ortogonana i R górnotrójkątna) metodą odbić Householdera.\n",
    "# funkcja pivotująca wybierająca wektor o największej normie\n",
    "function _rankRHouseholder(M)\n",
    "    # R=...H₂H₁M   Q=H₁H₂... (ale Q jest zbędne)\n",
    "    local T, n, m = eltype(M), length(M[:, 1]), length(M[1, :]) # rows and columns\n",
    "    if (n < m) n, m, M = m, n, M' end # transponuj. Rząd kolumnowy i wierszowy są takie same a rk(M)=rk(Mᵀ)=rk(Rᵀ)\n",
    "    local R = convert(Array{T}, Matrix(M))\n",
    "    for i in 1:min(m, n-1)\n",
    "#         display(i);\n",
    "#         display(R)\n",
    "#         display(R[i:n, i:i]')\n",
    "        R[:, i:m] = sortslices(R[:, i:m], dims=2, lt=(x,y)->norm(x[i:n])<norm(y[i:n]), rev=true) # pivot\n",
    "        R = [Matrix{T}(I, i-1, i-1) zeros(T, i-1, n-i+1); zeros(T, n-i+1, i-1) _HouseholderMatrix(R[i:n, i:i])]*R\n",
    "#        R[i+1:n, i:i] = zeros(T, n-i)' # eksperyment - co jeśli sztucznie wstawiamy zera\n",
    "    end\n",
    "    return R # TODO: liczenie rzędu macierzy górnotrójkątnej\n",
    "end\n",
    "\n",
    "# zamienia liczby zmiennoprzecinkowe w macierzy na zera jeśli |x|≦|maxError|\n",
    "function filterZeros(matrix, maxError)\n",
    "    return map(x->abs(x)<=abs(maxError) ? 0.0 : x, matrix)\n",
    "end\n",
    "\n",
    "# returns number of nonzero rows, when zero row is equal to zeros(row_length)\n",
    "function countNonzeroRows(matrix)\n",
    "    local nonzero = 0\n",
    "    for row in 1:length(matrix[:, 1])\n",
    "        nonzero += matrix[row, :] == zeros(length(matrix[1, :])) ? 0 : 1\n",
    "    end\n",
    "    return nonzero\n",
    "end\n",
    "\n",
    "# zwraca rząd macierzy z użyciem \n",
    "function rankRevealHouseholder(matrix; maxError = getPrecisionU()*50)\n",
    "    return countNonzeroRows(filterZeros(_rankRHouseholder(matrix), maxError))\n",
    "end\n",
    "\n",
    "function rankReveal"
   ]
  },
  {
   "cell_type": "code",
   "execution_count": 261,
   "metadata": {},
   "outputs": [
    {
     "data": {
      "text/plain": [
       "\"tmp:\""
      ]
     },
     "metadata": {},
     "output_type": "display_data"
    },
    {
     "data": {
      "text/plain": [
       "6×6 Array{Int64,2}:\n",
       " 0   4    6  -4  -3    0\n",
       " 9  -6   -6  -3  -5   -6\n",
       " 6   6    9   7   8  -10\n",
       " 3   9  -10   6   2    2\n",
       " 5   0   -7  -5   2    6\n",
       " 2  -5   -7  -3  -4    5"
      ]
     },
     "metadata": {},
     "output_type": "display_data"
    },
    {
     "data": {
      "text/plain": [
       "\"tmp2:\""
      ]
     },
     "metadata": {},
     "output_type": "display_data"
    },
    {
     "data": {
      "text/plain": [
       "6×6 Array{Int64,2}:\n",
       "  0   4    6  -4  -3    0\n",
       " -5   0    7   5  -2   -6\n",
       "  6   6    9   7   8  -10\n",
       "  3   9  -10   6   2    2\n",
       "  5   0   -7  -5   2    6\n",
       "  2  -5   -7  -3  -4    5"
      ]
     },
     "metadata": {},
     "output_type": "display_data"
    },
    {
     "data": {
      "text/plain": [
       "\"tmp3:\""
      ]
     },
     "metadata": {},
     "output_type": "display_data"
    },
    {
     "data": {
      "text/plain": [
       "6×6 Array{Int64,2}:\n",
       "  0   4    6  -4  -3    0\n",
       " -5  -5    7   5  -2   -6\n",
       "  6  -7    9   7   8  -10\n",
       "  3  -6  -10   6   2    2\n",
       "  5   5   -7  -5   2    6\n",
       "  2   3   -7  -3  -4    5"
      ]
     },
     "metadata": {},
     "output_type": "display_data"
    }
   ],
   "source": [
    "#A = [12 -51 4; 6 167 -68; -4 24 -41]\n",
    "tmp = rand(-10:10, 6, 6); display(\"tmp:\"); display(tmp)\n",
    "tmp2 = copy(tmp); tmp2[2, :] = -tmp2[5, :]; display(\"tmp2:\"); display(tmp2) # mniejszy rząd wierszowy\n",
    "tmp3 = copy(tmp2); tmp3[:, 2] = -tmp3[:, 4]; display(\"tmp3:\"); display(tmp3) # mniejszy rząd wierszowy i kolumnowy\n",
    "#_rankRHouseholder(tmp3)"
   ]
  },
  {
   "cell_type": "markdown",
   "metadata": {},
   "source": [
    "Problem jest znalezienie rzędu macierzy R, ponieważ nie musi ona być w postaci zredukowanej. Do tego jest algorytm \"Rank Revealing QR decomposition\" (ang. RRQR), gdzie znajdujemy dodatkową macierz P permutacji wejsciowej macierzy A. Dzięki temu wyjściowa macierz R przyjmie postać macierzy górnotrójkątnej z zerowymi wierszami, które będzie można policzyć. Permutacje wykonywane są po kolumnach i posortowane po największej normie wektora."
   ]
  },
  {
   "cell_type": "code",
   "execution_count": 544,
   "metadata": {},
   "outputs": [
    {
     "name": "stdout",
     "output_type": "stream",
     "text": [
      ">>> Random test ID: [\u001b[1;35m0.1821285404980577\u001b[m]\n",
      "> Hardcoded tests:\n",
      "[\u001b[1;32mPASS\u001b[m] [exact:\t  1] [Hausholder:\t  1] <<< 2x2 [1 1; 1 1] matrix\n",
      "[\u001b[1;32mPASS\u001b[m] [exact:\t  0] [Hausholder:\t  0] <<< Zero 100x100 matrix\n",
      "[\u001b[1;32mPASS\u001b[m] [exact:\t100] [Hausholder:\t100] <<< Identity 100x100 matrix\n",
      "[\u001b[1;32mPASS\u001b[m] [exact:\t100] [Hausholder:\t100] <<< Diagonal 100x100 matrix of Float64  elements\n",
      "[\u001b[1;32mPASS\u001b[m] [exact:\t  3] [Hausholder:\t  3] <<< Predefined [12 -51 4; 6 167 -68; -4 24 -41]\n",
      "[\u001b[1;32mPASS\u001b[m] [exact:\t 10] [Hausholder:\t 10] <<< Random 10x10 matrix of integer values on [-10..10]\n",
      "[\u001b[1;32mPASS\u001b[m] [exact:\t  9] [Hausholder:\t  9] <<<  ^ one duplicate row\n",
      "[\u001b[1;32mPASS\u001b[m] [exact:\t  9] [Hausholder:\t  9] <<<  ^ one duplicate row and col\n",
      "> 100 random sparse matrices of size 100x100:\n",
      "[\u001b[1;32mPASS\u001b[m] [exact:\t 24] [Hausholder:\t 24] <<< random sparse: [8]\n",
      ">>> TESTS END\n"
     ]
    }
   ],
   "source": [
    "# test na predefiniowanych macierzach. \n",
    "# f: funkcja zwracającą rząd macierzy pewna metodą\n",
    "# name: nazwa metody liczącej rząd macierzy\n",
    "# maxError: maksymalna wartość bezwzględna interpretowana jako 0\n",
    "# rng: generator liczb losowych. Można przekazać np. MT19937(<seed>) aby generować te same zestawy losowych danych\n",
    "function test(f, f_name; maxError=getPrecisionU()*50, rng=nothing)\n",
    "    local _rand = rng==nothing ? rand : (args...)->rand(rng, args...) # custom rand if generator is set\n",
    "    @printf(\">>> Random test ID: [\\e[1;35m%.16f\\e[m]\\n\", _rand())\n",
    "\n",
    "    function _do_test(test)\n",
    "        local exact, computed = haskey(test, :rank) ? test.rank : rank(test.M), f(test.M)\n",
    "        local success = exact==computed\n",
    "        if success\n",
    "            @printf(\"[%5s] [exact:\\t%3d] [%s:\\t%3d] <<< %s\\n\", \n",
    "                    exact==computed ? \"\\e[1;32mPASS\\e[m\" : \"\\e[1;31mFAIL\\e[m\", exact, f_name, computed, test.desc)\n",
    "        end\n",
    "    end\n",
    "\n",
    "    # test data\n",
    "    local zero_100x100 = zeros(Float64, 100, 100)\n",
    "    local Id_100x100 = Matrix{Float64}(I, 100, 100)\n",
    "    local Diag_100x100 = Diagonal(rand(Float64, 100))\n",
    "    local A = [12 -51 4; 6 167 -68; -4 24 -41]\n",
    "    local rand_10x10 = _rand(-10:10, 10, 10)\n",
    "    local row_same = copy(rand_10x10); row_same[2, :] = -row_same[5, :]\n",
    "    local row_col_same = copy(row_same); row_col_same[:, 2] = -row_col_same[:, 4]\n",
    "    #local Kahan = Matrix Diagonal(#FIXME)\n",
    "    \n",
    "    # tests consist of fieds M=matrix, desc=description of test and optional rank=rank of matrix(not calculated with lib)\n",
    "    local tests = [\n",
    "        (M=[1 1; 1 1],   desc=\"2x2 [1 1; 1 1] matrix\")\n",
    "        (M=zero_100x100, desc=\"Zero 100x100 matrix\")\n",
    "        (M=Id_100x100,   desc=\"Identity 100x100 matrix\")\n",
    "        (M=Diag_100x100, desc=\"Diagonal 100x100 matrix of Float64  elements\")\n",
    "        (M=A,            desc=\"Predefined [12 -51 4; 6 167 -68; -4 24 -41]\")\n",
    "        (M=rand_10x10,   desc=\"Random 10x10 matrix of integer values on [-10..10]\")\n",
    "        (M=row_same,     desc=\" ^ one duplicate row\") \n",
    "        (M=row_col_same, desc=\" ^ one duplicate row and col\")\n",
    "        #(M=Kahan,       desc=\"Kahan matrix\")\n",
    "    ]\n",
    "\n",
    "    @printf(\"> Hardcoded tests:\\n\")\n",
    "    for test in tests\n",
    "        _do_test(test)\n",
    "    end\n",
    "    \n",
    "    flush(stdout)\n",
    "    @printf(\"> 100 random sparse matrices of size 100x100:\\n\")\n",
    "    for i in 1:10\n",
    "        local M = zeros(Float64, 100, 100)\n",
    "        local desc = \"random sparse: [\"\n",
    "        local fields = rand(1:100)\n",
    "        for field in 1:fields # insert n elements where n on [1..100]\n",
    "            local row, col, val = rand(1:100), rand(1:100), rand(-100:100)\n",
    "            #desc = desc*\"(\"*string(row)*\",\"*string(col)*\",\"*string(val)*\") \" # log matrix to description in readable format\n",
    "            M[row, col] = val # random column random row insert random Float64\n",
    "        end\n",
    "        desc = desc*string(i)*\"]\"\n",
    "        _do_test((M=M, desc=desc))\n",
    "        flush(stdout)\n",
    "    end\n",
    "    @printf(\">>> TESTS END\\n\")\n",
    "end\n",
    "\n",
    "test(rankRevealHouseholder, \"Hausholder\")"
   ]
  },
  {
   "cell_type": "code",
   "execution_count": null,
   "metadata": {},
   "outputs": [],
   "source": []
  },
  {
   "cell_type": "code",
   "execution_count": null,
   "metadata": {},
   "outputs": [],
   "source": []
  },
  {
   "cell_type": "markdown",
   "metadata": {},
   "source": [
    "Inny sposób: rozkład SVD, mogę tylko wspomnieć, bo nie jest nigdzie zbyt opisany i "
   ]
  }
 ],
 "metadata": {
  "kernelspec": {
   "display_name": "Julia 1.0.1",
   "language": "julia",
   "name": "julia-1.0"
  },
  "language_info": {
   "file_extension": ".jl",
   "mimetype": "application/julia",
   "name": "julia",
   "version": "1.0.1"
  }
 },
 "nbformat": 4,
 "nbformat_minor": 2
}
