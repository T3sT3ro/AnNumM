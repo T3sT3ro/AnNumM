{
 "cells": [
  {
   "cell_type": "code",
   "execution_count": 173,
   "metadata": {},
   "outputs": [],
   "source": [
    "using LinearAlgebra # do operacji macierzowych i testowania\n",
    "using RandomNumbers.MersenneTwisters # do MT19937()\n",
    "using Printf\n",
    "using DelimitedFiles\n",
    "\n",
    "epsilon = 10e-8;"
   ]
  },
  {
   "cell_type": "code",
   "execution_count": 181,
   "metadata": {},
   "outputs": [],
   "source": [
    "# test data\n",
    "function Ab_read_from_file(path)    \n",
    "    local D1 = (open(readdlm, path))\n",
    "    return M = (A=D1[:, 1:end-1], b=D1[:, end])\n",
    "end\n",
    "\n",
    "function randEchelonGen(n, val_range)\n",
    "    local M = rand(val_range, n, n)\n",
    "    for i in 1:length(M[:, 1])\n",
    "        M[i, 1:i-1] = zeros(i-1)'\n",
    "    end\n",
    "    return (A=M, b=rand(val_range, n))\n",
    "end\n",
    "\n",
    "begin\n",
    "    local Id_100x100          = (b=rand(-10.0:10.0, 100), A=Matrix{Float64}(I, 100, 100))\n",
    "    local small_3x3           = (A=[1.0 2.0 3.0; 4.0 5.0 6.0; 7.0 8.0 10.0], b=[10.0 12.0 13.0]')\n",
    "    local big01_100x100       = Ab_read_from_file(\"gaussMatrix1.txt\")\n",
    "    local big02_100x100       = Ab_read_from_file(\"gaussMatrix2.txt\")\n",
    "    local big03_100x100       = Ab_read_from_file(\"gaussMatrix3.txt\")\n",
    "    local rand_echelon100x100 = randEchelonGen(100, -100.0:100.0)\n",
    "\n",
    "    # tests consist of fieds M=matrix, desc=description of test and exact=wanted\n",
    "    tests = [\n",
    "        (M=Id_100x100,    desc=\"Identity 100x100 matrix with random b\")\n",
    "        (M=small_3x3 ,    desc=\"Small hardcoded 3x3 test\")\n",
    "        (M=big01_100x100, desc=\"Big 100x100 hardcoded test [1]\")\n",
    "        (M=big02_100x100, desc=\"Big 100x100 hardcoded test [2]\")\n",
    "        (M=big03_100x100, desc=\"Big 100x100 hardcoded test [3]\")\n",
    "        (M=big03_100x100, desc=\"Random echelon form 100x100 (might crash)\")\n",
    "    ];\n",
    "end;"
   ]
  },
  {
   "cell_type": "code",
   "execution_count": 182,
   "metadata": {},
   "outputs": [],
   "source": [
    "# test na macierzach. \n",
    "# f: funkcja zwracającą wynik do przetestowania z testem\n",
    "# name: nazwa metody liczącej rząd macierzy\n",
    "# rng: generator liczb losowych. Można przekazać np. MT19937(<seed>) aby generować te same zestawy losowych danych\n",
    "# exact_f: funkcja do liczenia dokładnego wyniku, chyba że test zawiera pole `exact`, wtedy to ono jest użyte\n",
    "# equal_f: opcjonalne do porównywania wartości wyliczonej przez f() i exact_f() lub test.exact_f(). Domyślnie: `==`\n",
    "function test(f, f_name, exact_f; rng=nothing, equal_f=(x, y)->x==y)\n",
    "    local _rand = rng==nothing ? rand : (args...)->rand(rng, args...) # custom rand if generator is set\n",
    "    \n",
    "    @printf(\">>> Random test ID: [\\e[1;35m%.16f\\e[m]\\n\", _rand())\n",
    "\n",
    "    function _do_test(test)\n",
    "        local t1 = @elapsed exact = haskey(test, :exact_f) ? test.exact_f(test.M) : exact_f(test.M)\n",
    "        local t2 = @elapsed computed = f(test.M)\n",
    "        local success = equal_f(exact, computed)\n",
    "         @printf(\"[%5s] [exact:\\ttime:%f] [%s:\\ttime:%f] <<< %s\\n\", \n",
    "                 success ? \"\\e[1;32mPASS\\e[m\" : \"\\e[1;31mFAIL\\e[m\", t1, f_name, t2, test.desc)\n",
    "    end\n",
    "\n",
    "    @printf(\"> Hardcoded tests:\\n\")\n",
    "    for test in tests\n",
    "        _do_test(test)\n",
    "    end\n",
    "    \n",
    "    flush(stdout)\n",
    "    @printf(\">>> TESTS END\\n\")\n",
    "end\n",
    "\n",
    "function getPrecisionU(T=Float64) return 0.5*2.0^-precision(T) end\n",
    "# zamienia liczby zmiennoprzecinkowe w macierzy na zera jeśli |x|≦|maxError|\n",
    "function filterZeros!(matrix, maxError=epsilon) map!(x->abs(x)<=abs(maxError) ? 0.0 : x, matrix) end\n",
    ";"
   ]
  },
  {
   "cell_type": "code",
   "execution_count": 183,
   "metadata": {},
   "outputs": [],
   "source": [
    "# solves Ax=b where Aₙₓₙ matrix of coefficients, bₙₓ₁ matrix of results for linear equations\n",
    "function solve!(A, b)\n",
    "    local M = [A b]'\n",
    "    local n = length(M[1, :])\n",
    "    local isZero = x->abs(x)<=epsilon\n",
    "    # Gauss reduce on columns\n",
    "    for col in 1:n\n",
    "        # swap-in column with nonzero value\n",
    "        local allzero = true\n",
    "        for j in col:n \n",
    "            if (!isZero(M[col, j])) \n",
    "                M[:, col], M[:, j], allzero = M[:, j], M[:, col], false\n",
    "                break\n",
    "            end\n",
    "        end\n",
    "        if (allzero) continue end # skip to next step iff row with zeros till the end\n",
    "        \n",
    "        # gauss reduce columns\n",
    "        for next_col in col+1:n\n",
    "            M[:, next_col] -= M[:, col]*M[col, next_col]/M[col, col] # denom !=0 cuz we swapped\n",
    "        end\n",
    "    end\n",
    "    \n",
    "    for col in n:-1:1\n",
    "        if (isZero(M[col, col]))\n",
    "            if (!isZero(M[end, col])) return NaN*ones(length(b)) end # no solutions fuz we have 0*x = y (!=0)\n",
    "            return Inf*ones(length(b)) # inf solutions cuz we have 0*x = 0\n",
    "        end\n",
    "        M[:, col] /= M[col, col] # calculate b[col]\n",
    "        for j in col-1:-1:1\n",
    "            M[:, j] -= M[col, j]*M[:, col]\n",
    "        end\n",
    "    end\n",
    "    return M[end, :]\n",
    "    \n",
    "end\n",
    ";"
   ]
  },
  {
   "cell_type": "code",
   "execution_count": 200,
   "metadata": {},
   "outputs": [
    {
     "name": "stdout",
     "output_type": "stream",
     "text": [
      ">>> Random test ID: [\u001b[1;35m0.3222212102264166\u001b[m]\n",
      "> Hardcoded tests:\n",
      "[\u001b[1;32mPASS\u001b[m] [exact:\ttime:0.000020] [solve!:\ttime:0.008423] <<< Identity 100x100 matrix with random b\n",
      "[\u001b[1;32mPASS\u001b[m] [exact:\ttime:0.000015] [solve!:\ttime:0.000008] <<< Small hardcoded 3x3 test\n",
      "[\u001b[1;32mPASS\u001b[m] [exact:\ttime:0.007019] [solve!:\ttime:0.007881] <<< Big 100x100 hardcoded test [1]\n",
      "[\u001b[1;32mPASS\u001b[m] [exact:\ttime:0.008467] [solve!:\ttime:0.008236] <<< Big 100x100 hardcoded test [2]\n",
      "[\u001b[1;32mPASS\u001b[m] [exact:\ttime:0.004474] [solve!:\ttime:0.007215] <<< Big 100x100 hardcoded test [3]\n",
      "[\u001b[1;32mPASS\u001b[m] [exact:\ttime:0.003262] [solve!:\ttime:0.008310] <<< Random echelon form 100x100 (might crash)\n",
      ">>> TESTS END\n"
     ]
    }
   ],
   "source": [
    "test(M->solve!(M.A, M.b), \"solve!\", M->\\(M.A, M.b); equal_f=(v,w)->abs(norm(v-w))<=epsilon, rng=MT19937())"
   ]
  }
 ],
 "metadata": {
  "kernelspec": {
   "display_name": "Julia 1.0.1",
   "language": "julia",
   "name": "julia-1.0"
  },
  "language_info": {
   "file_extension": ".jl",
   "mimetype": "application/julia",
   "name": "julia",
   "version": "1.0.1"
  }
 },
 "nbformat": 4,
 "nbformat_minor": 2
}
