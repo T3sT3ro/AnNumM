{
 "cells": [
  {
   "cell_type": "code",
   "execution_count": 3,
   "metadata": {},
   "outputs": [
    {
     "data": {
      "text/plain": [
       "f (generic function with 1 method)"
      ]
     },
     "execution_count": 3,
     "metadata": {},
     "output_type": "execute_result"
    }
   ],
   "source": [
    "using Printf\n",
    "\n",
    "function sieczne_1( f::Function, xn0,xn_1; imax=20, print=false )\n",
    "    iter = 0;\n",
    "    if print; @printf(\"Iter %2d : xr=%10.7f \\n\" , iter, xn0); end;\n",
    "    while iter <= imax\n",
    "        xrold = xn_1\n",
    "        xold = xn0\n",
    "        iter  = iter+1\n",
    "        xn_1 = xn0\n",
    "        xn0    = xold - f(xold)*((xold-xrold)/(f(xold)-f(xrold)))\n",
    "        if print; @printf(\"Iter %2d : xr=%10.20f \\n\" , iter, xn0); end;\n",
    "    end\n",
    "    return xn0;\n",
    "end;\n",
    " \n",
    "function sieczne_2( f::Function, xn0,xn_1; imax=20, print=false )\n",
    "    iter = 0;\n",
    "    if print; @printf(\"Iter %2d : xr=%10.7f \\n\" , iter, xn0); end;\n",
    "    while iter <= imax\n",
    "        xrold = xn_1\n",
    "        xold = xn0\n",
    "        iter  = iter+1\n",
    "        xn_1 = xn0\n",
    "        xn0    = (f(xold)*xrold - f(xrold)*xold)/(f(xold)-f(xrold))\n",
    "        if print; @printf(\"Iter %2d : xr=%10.20f \\n\" , iter, xn0); end;\n",
    "    end\n",
    "    return xn0;\n",
    "end;\n",
    " \n",
    "f(x) = 7sin(2x) + x^2 + 4"
   ]
  },
  {
   "cell_type": "code",
   "execution_count": 24,
   "metadata": {},
   "outputs": [
    {
     "data": {
      "text/plain": [
       "130.97567059102656"
      ]
     },
     "execution_count": 24,
     "metadata": {},
     "output_type": "execute_result"
    }
   ],
   "source": [
    "sieczne_1(f, 1, 1.2)\n"
   ]
  },
  {
   "cell_type": "code",
   "execution_count": 25,
   "metadata": {},
   "outputs": [
    {
     "data": {
      "text/plain": [
       "130.97566994178197"
      ]
     },
     "execution_count": 25,
     "metadata": {},
     "output_type": "execute_result"
    }
   ],
   "source": [
    "sieczne_2(f, 1, 1.2)"
   ]
  }
 ],
 "metadata": {
  "kernelspec": {
   "display_name": "Julia 1.0.1",
   "language": "julia",
   "name": "julia-1.0"
  },
  "language_info": {
   "file_extension": ".jl",
   "mimetype": "application/julia",
   "name": "julia",
   "version": "1.0.1"
  }
 },
 "nbformat": 4,
 "nbformat_minor": 2
}
