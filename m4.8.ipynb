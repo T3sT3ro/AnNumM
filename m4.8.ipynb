{
 "cells": [
  {
   "cell_type": "code",
   "execution_count": 1,
   "metadata": {},
   "outputs": [
    {
     "name": "stdout",
     "output_type": "stream",
     "text": [
      "\u001b[32m\u001b[1m  Updating\u001b[22m\u001b[39m registry at `C:\\Users\\Tooster\\.julia\\registries\\General`\n",
      "\u001b[32m\u001b[1m  Updating\u001b[22m\u001b[39m git-repo `https://github.com/JuliaRegistries/General.git`\n",
      "\u001b[2K\u001b[?25h[1mFetching:\u001b[22m\u001b[39m [========================================>]  99.9 %0.0 %0 %16.4 %27.9 %>                       ]  41.3 %                  ]  54.5 %\u001b[32m\u001b[1m Resolving\u001b[22m\u001b[39m package versions...\n",
      "\u001b[32m\u001b[1m Installed\u001b[22m\u001b[39m Observables ─ v0.2.3\n",
      "\u001b[32m\u001b[1m Installed\u001b[22m\u001b[39m Media ─────── v0.5.0\n",
      "\u001b[32m\u001b[1m Installed\u001b[22m\u001b[39m Lazy ──────── v0.13.2\n",
      "\u001b[32m\u001b[1m Installed\u001b[22m\u001b[39m Polynomials ─ v0.5.1\n",
      "\u001b[32m\u001b[1m Installed\u001b[22m\u001b[39m MbedTLS ───── v0.6.6\n",
      "\u001b[32m\u001b[1m Installed\u001b[22m\u001b[39m WebIO ─────── v0.4.2\n",
      "\u001b[32m\u001b[1m  Updating\u001b[22m\u001b[39m `C:\\Users\\Tooster\\.julia\\environments\\v1.0\\Project.toml`\n",
      " \u001b[90m [f27b6e38]\u001b[39m\u001b[92m + Polynomials v0.5.1\u001b[39m\n",
      "\u001b[32m\u001b[1m  Updating\u001b[22m\u001b[39m `C:\\Users\\Tooster\\.julia\\environments\\v1.0\\Manifest.toml`\n",
      " \u001b[90m [50d2b5c4]\u001b[39m\u001b[93m ↑ Lazy v0.13.1 ⇒ v0.13.2\u001b[39m\n",
      " \u001b[90m [739be429]\u001b[39m\u001b[93m ↑ MbedTLS v0.6.4 ⇒ v0.6.6\u001b[39m\n",
      " \u001b[90m [e89f7d12]\u001b[39m\u001b[93m ↑ Media v0.4.1 ⇒ v0.5.0\u001b[39m\n",
      " \u001b[90m [510215fc]\u001b[39m\u001b[93m ↑ Observables v0.2.2 ⇒ v0.2.3\u001b[39m\n",
      " \u001b[90m [f27b6e38]\u001b[39m\u001b[92m + Polynomials v0.5.1\u001b[39m\n",
      " \u001b[90m [0f1e0344]\u001b[39m\u001b[93m ↑ WebIO v0.4.0 ⇒ v0.4.2\u001b[39m\n",
      "\u001b[32m\u001b[1m  Building\u001b[22m\u001b[39m WebIO ──→ `C:\\Users\\Tooster\\.julia\\packages\\WebIO\\Rk8wc\\deps\\build.log`\n",
      "\u001b[32m\u001b[1m  Building\u001b[22m\u001b[39m MbedTLS → `C:\\Users\\Tooster\\.julia\\packages\\MbedTLS\\r1Ufc\\deps\\build.log`\n"
     ]
    }
   ],
   "source": [
    "using Pkg\n",
    "Pkg.add(\"Polynomials\")"
   ]
  },
  {
   "cell_type": "code",
   "execution_count": 12,
   "metadata": {},
   "outputs": [
    {
     "data": {
      "text/html": [
       "1.0 &#43; 2.0&#8729;x &#43; 3.0&#8729;x^2 &#43; 4.0&#8729;x^3 &#43; 5.0&#8729;x^4"
      ],
      "text/plain": [
       "Poly(1.0 + 2.0*x + 3.0*x^2 + 4.0*x^3 + 5.0*x^4)"
      ]
     },
     "execution_count": 12,
     "metadata": {},
     "output_type": "execute_result"
    }
   ],
   "source": [
    "using Polynomials\n",
    "a = reverse(  Array{BigFloat,1}([ 5,4,3,2,1]) )\n",
    "p = Poly(a)"
   ]
  },
  {
   "cell_type": "code",
   "execution_count": 33,
   "metadata": {},
   "outputs": [
    {
     "data": {
      "text/plain": [
       "Bairstow (generic function with 2 methods)"
      ]
     },
     "execution_count": 33,
     "metadata": {},
     "output_type": "execute_result"
    }
   ],
   "source": [
    "function Bairstow(a::Vector{BigFloat}; maxiter=10)    \n",
    "    # maxiter = maksymalna liczba iteracji w metodzie Newtona\n",
    "    \n",
    "    function solve_quadratic_equation(a::BigFloat,b::BigFloat,c::BigFloat)\n",
    "        Δ=b*b-4.0*a*c;\n",
    "        x1,x2 = 0.0, 0.0;\n",
    "        \n",
    "        if (Δ>0.0)\n",
    "            sΔ = sqrt(Δ)\n",
    "            if (b>0.0)\n",
    "                x1 = (-b-sΔ)/(2.0*a)\n",
    "                x2 = c/x1\n",
    "            else\n",
    "                x2 = (-b+sΔ)/(2.0*a)\n",
    "                x1 = c/x2\n",
    "            end\n",
    "        elseif (Δ<0.0)\n",
    "            sΔ = sqrt(-Δ)\n",
    "            if (b>0.0)\n",
    "                x1 = (-b-sΔ*im)/(2.0*a)\n",
    "                x2 = c/x1\n",
    "            else\n",
    "                x2 = (-b+sΔ*im)/(2.0*a)\n",
    "                x1 = c/x2\n",
    "            end\n",
    "        else\n",
    "            x1 = -b/(2.0*a);\n",
    "            x2 = -b/(2.0*a);\n",
    "        end\n",
    "        return x1,x2;\n",
    "    end      \n",
    "    \n",
    "    n = length(a)-1;\n",
    "    α = zeros( Complex{BigFloat}, n ); _i = 1;\n",
    "    while (n>1)\n",
    "        b = zeros(BigFloat, size(a))\n",
    "        b[n+1] = a[n+1]     # b_n     = a_n\n",
    "        c = zeros(BigFloat, size(a))\n",
    "        c[n+1] = 0.0        # c_n     = 0\n",
    "        c[n]   = a[n+1]     # c_{n-1} = a_n\n",
    "        \n",
    "        u,v = 0.1, 0.1\n",
    "        for j = 1:maxiter\n",
    "            b[n] = a[n] + u*b[n+1]\n",
    "            for k=n-2:-1:0\n",
    "                b[k+1] = a[k+1] + u*b[k+2] + v*b[k+3]\n",
    "                c[k+1] = b[k+2] + u*c[k+2] + v*c[k+3]\n",
    "            end\n",
    "            J = c[1]*c[3] - c[2]*c[2]\n",
    "            u = u + (c[2]*b[2] - c[3]*b[1])/J\n",
    "            v = v + (c[2]*b[1] - c[1]*b[2])/J\n",
    "            j,u,v,b[1],b[2]\n",
    "        end\n",
    "        println(\"u:\", -u, \"  v:\", -v)\n",
    "        x1,x2 = solve_quadratic_equation(BigFloat(1.0),-u,-v)\n",
    "        α[_i] = x1; α[_i+1] = x2; _i = _i+2;\n",
    "        a = b[3:end]\n",
    "        n = n-2;\n",
    "    end\n",
    "    if (n==1)\n",
    "        α[_i] = -a[1]/a[2]\n",
    "    end\n",
    "    return α\n",
    "end"
   ]
  },
  {
   "cell_type": "code",
   "execution_count": 34,
   "metadata": {},
   "outputs": [
    {
     "name": "stdout",
     "output_type": "stream",
     "text": [
      "u:1.075664549805979905974267542163423718712372292470842069301526394978089737144374  v:4.176314723967521144504154844146490384597355731571242774768888875461515738329766e-01\n",
      "u:-2.756645498059799059742675421634237187123722924708420692094988568631469253906338e-01  v:4.788911114677653865455198933820164520437769285459386258442920517593882249032879e-01\n"
     ]
    },
    {
     "data": {
      "text/plain": [
       "4-element Array{Complex{BigFloat},1}:\n",
       " -5.378322749029899529871337710817118593561861462354210346507631974890448685721869e-01 - 3.582846863451280107007766273361213879878761498436103742720216664840635348776431e-01im\n",
       " -5.378322749029899529871337710817118593561861462354210346507631974890448685721783e-01 + 3.582846863451280107007766273361213879878761498436103742720216664840635348776388e-01im\n",
       "  1.378322749029899529871337710817118593561861462354210346047494284315734626953169e-01 - 6.781543891053363907966197665790500558845536308086379169603171358982186296144924e-01im\n",
       "  1.378322749029899529871337710817118593561861462354210346047494284315734626953169e-01 + 6.781543891053363907966197665790500558845536308086379169603171358982186296144924e-01im"
      ]
     },
     "execution_count": 34,
     "metadata": {},
     "output_type": "execute_result"
    }
   ],
   "source": [
    "Bairstow(a)"
   ]
  },
  {
   "cell_type": "code",
   "execution_count": 35,
   "metadata": {},
   "outputs": [
    {
     "data": {
      "text/plain": [
       "4-element Array{Complex{Float64},1}:\n",
       "  0.1378322749029901 + 0.6781543891053368im \n",
       "  0.1378322749029901 - 0.6781543891053368im \n",
       " -0.5378322749029902 + 0.35828468634512844im\n",
       " -0.5378322749029902 - 0.35828468634512844im"
      ]
     },
     "execution_count": 35,
     "metadata": {},
     "output_type": "execute_result"
    }
   ],
   "source": [
    "roots(Poly([1.0,2.0,3.0,4.0,5.0]))"
   ]
  },
  {
   "cell_type": "code",
   "execution_count": null,
   "metadata": {},
   "outputs": [],
   "source": []
  }
 ],
 "metadata": {
  "kernelspec": {
   "display_name": "Julia 1.0.1",
   "language": "julia",
   "name": "julia-1.0"
  },
  "language_info": {
   "file_extension": ".jl",
   "mimetype": "application/julia",
   "name": "julia",
   "version": "1.0.1"
  }
 },
 "nbformat": 4,
 "nbformat_minor": 2
}
